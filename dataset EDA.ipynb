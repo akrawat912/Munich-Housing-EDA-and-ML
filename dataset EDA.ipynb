{
 "cells": [
  {
   "cell_type": "code",
   "execution_count": 9,
   "metadata": {},
   "outputs": [],
   "source": [
    "import numpy as np\n",
    "import pandas as pd"
   ]
  },
  {
   "cell_type": "code",
   "execution_count": 147,
   "metadata": {},
   "outputs": [
    {
     "data": {
      "text/html": [
       "<div>\n",
       "<style scoped>\n",
       "    .dataframe tbody tr th:only-of-type {\n",
       "        vertical-align: middle;\n",
       "    }\n",
       "\n",
       "    .dataframe tbody tr th {\n",
       "        vertical-align: top;\n",
       "    }\n",
       "\n",
       "    .dataframe thead th {\n",
       "        text-align: right;\n",
       "    }\n",
       "</style>\n",
       "<table border=\"1\" class=\"dataframe\">\n",
       "  <thead>\n",
       "    <tr style=\"text-align: right;\">\n",
       "      <th></th>\n",
       "      <th>index0</th>\n",
       "      <th>terrace</th>\n",
       "      <th>bedrooms</th>\n",
       "      <th>construction_year</th>\n",
       "      <th>date_month</th>\n",
       "      <th>date_year</th>\n",
       "      <th>date_year_month</th>\n",
       "      <th>floor</th>\n",
       "      <th>rooms</th>\n",
       "      <th>price_room</th>\n",
       "      <th>price_surface</th>\n",
       "      <th>price</th>\n",
       "      <th>surface</th>\n",
       "      <th>zip</th>\n",
       "    </tr>\n",
       "  </thead>\n",
       "  <tbody>\n",
       "    <tr>\n",
       "      <th>0</th>\n",
       "      <td>0</td>\n",
       "      <td>yes</td>\n",
       "      <td>2</td>\n",
       "      <td>1986</td>\n",
       "      <td>3</td>\n",
       "      <td>2016</td>\n",
       "      <td>2016_03</td>\n",
       "      <td>up floor</td>\n",
       "      <td>3</td>\n",
       "      <td>108333.33333333333</td>\n",
       "      <td>3915.6626506024095</td>\n",
       "      <td>325000</td>\n",
       "      <td>83</td>\n",
       "      <td>85221</td>\n",
       "    </tr>\n",
       "    <tr>\n",
       "      <th>1</th>\n",
       "      <td>1</td>\n",
       "      <td>yes</td>\n",
       "      <td>NAN</td>\n",
       "      <td>1972</td>\n",
       "      <td>3</td>\n",
       "      <td>2016</td>\n",
       "      <td>2016_03</td>\n",
       "      <td>up floor</td>\n",
       "      <td>3</td>\n",
       "      <td>115000.0</td>\n",
       "      <td>4107.142857142857</td>\n",
       "      <td>345000</td>\n",
       "      <td>84</td>\n",
       "      <td>85521</td>\n",
       "    </tr>\n",
       "    <tr>\n",
       "      <th>2</th>\n",
       "      <td>2</td>\n",
       "      <td>yes</td>\n",
       "      <td>2</td>\n",
       "      <td>1968</td>\n",
       "      <td>3</td>\n",
       "      <td>2016</td>\n",
       "      <td>2016_03</td>\n",
       "      <td>up floor</td>\n",
       "      <td>3</td>\n",
       "      <td>123333.33333333333</td>\n",
       "      <td>4805.194805194805</td>\n",
       "      <td>370000</td>\n",
       "      <td>77</td>\n",
       "      <td>81369</td>\n",
       "    </tr>\n",
       "    <tr>\n",
       "      <th>3</th>\n",
       "      <td>3</td>\n",
       "      <td>yes</td>\n",
       "      <td>2</td>\n",
       "      <td>1963</td>\n",
       "      <td>3</td>\n",
       "      <td>2016</td>\n",
       "      <td>2016_03</td>\n",
       "      <td>up floor</td>\n",
       "      <td>3</td>\n",
       "      <td>133000.0</td>\n",
       "      <td>4244.68085106383</td>\n",
       "      <td>399000</td>\n",
       "      <td>94</td>\n",
       "      <td>82110</td>\n",
       "    </tr>\n",
       "    <tr>\n",
       "      <th>4</th>\n",
       "      <td>4</td>\n",
       "      <td>yes</td>\n",
       "      <td>2</td>\n",
       "      <td>1973</td>\n",
       "      <td>3</td>\n",
       "      <td>2016</td>\n",
       "      <td>2016_03</td>\n",
       "      <td>up floor</td>\n",
       "      <td>3</td>\n",
       "      <td>122933.33333333333</td>\n",
       "      <td>4789.61038961039</td>\n",
       "      <td>368800</td>\n",
       "      <td>77</td>\n",
       "      <td>81735</td>\n",
       "    </tr>\n",
       "  </tbody>\n",
       "</table>\n",
       "</div>"
      ],
      "text/plain": [
       "   index0 terrace bedrooms construction_year  date_month  date_year  \\\n",
       "0       0     yes        2              1986           3       2016   \n",
       "1       1     yes      NAN              1972           3       2016   \n",
       "2       2     yes        2              1968           3       2016   \n",
       "3       3     yes        2              1963           3       2016   \n",
       "4       4     yes        2              1973           3       2016   \n",
       "\n",
       "  date_year_month     floor rooms          price_room       price_surface  \\\n",
       "0         2016_03  up floor     3  108333.33333333333  3915.6626506024095   \n",
       "1         2016_03  up floor     3            115000.0   4107.142857142857   \n",
       "2         2016_03  up floor     3  123333.33333333333   4805.194805194805   \n",
       "3         2016_03  up floor     3            133000.0    4244.68085106383   \n",
       "4         2016_03  up floor     3  122933.33333333333    4789.61038961039   \n",
       "\n",
       "    price surface    zip  \n",
       "0  325000      83  85221  \n",
       "1  345000      84  85521  \n",
       "2  370000      77  81369  \n",
       "3  399000      94  82110  \n",
       "4  368800      77  81735  "
      ]
     },
     "execution_count": 147,
     "metadata": {},
     "output_type": "execute_result"
    }
   ],
   "source": [
    "data=pd.read_csv('Munich House raw.csv',delimiter='\\t')\n",
    "data.head()"
   ]
  },
  {
   "cell_type": "code",
   "execution_count": 148,
   "metadata": {},
   "outputs": [],
   "source": [
    "data=data.drop('index0',1)"
   ]
  },
  {
   "cell_type": "code",
   "execution_count": 149,
   "metadata": {},
   "outputs": [
    {
     "data": {
      "text/html": [
       "<div>\n",
       "<style scoped>\n",
       "    .dataframe tbody tr th:only-of-type {\n",
       "        vertical-align: middle;\n",
       "    }\n",
       "\n",
       "    .dataframe tbody tr th {\n",
       "        vertical-align: top;\n",
       "    }\n",
       "\n",
       "    .dataframe thead th {\n",
       "        text-align: right;\n",
       "    }\n",
       "</style>\n",
       "<table border=\"1\" class=\"dataframe\">\n",
       "  <thead>\n",
       "    <tr style=\"text-align: right;\">\n",
       "      <th></th>\n",
       "      <th>terrace</th>\n",
       "      <th>bedrooms</th>\n",
       "      <th>construction_year</th>\n",
       "      <th>date_month</th>\n",
       "      <th>date_year</th>\n",
       "      <th>date_year_month</th>\n",
       "      <th>floor</th>\n",
       "      <th>rooms</th>\n",
       "      <th>price_room</th>\n",
       "      <th>price_surface</th>\n",
       "      <th>price</th>\n",
       "      <th>surface</th>\n",
       "      <th>zip</th>\n",
       "    </tr>\n",
       "  </thead>\n",
       "  <tbody>\n",
       "    <tr>\n",
       "      <th>0</th>\n",
       "      <td>yes</td>\n",
       "      <td>2</td>\n",
       "      <td>1986</td>\n",
       "      <td>3</td>\n",
       "      <td>2016</td>\n",
       "      <td>2016_03</td>\n",
       "      <td>up floor</td>\n",
       "      <td>3</td>\n",
       "      <td>108333.33333333333</td>\n",
       "      <td>3915.6626506024095</td>\n",
       "      <td>325000</td>\n",
       "      <td>83</td>\n",
       "      <td>85221</td>\n",
       "    </tr>\n",
       "    <tr>\n",
       "      <th>1</th>\n",
       "      <td>yes</td>\n",
       "      <td>NAN</td>\n",
       "      <td>1972</td>\n",
       "      <td>3</td>\n",
       "      <td>2016</td>\n",
       "      <td>2016_03</td>\n",
       "      <td>up floor</td>\n",
       "      <td>3</td>\n",
       "      <td>115000.0</td>\n",
       "      <td>4107.142857142857</td>\n",
       "      <td>345000</td>\n",
       "      <td>84</td>\n",
       "      <td>85521</td>\n",
       "    </tr>\n",
       "    <tr>\n",
       "      <th>2</th>\n",
       "      <td>yes</td>\n",
       "      <td>2</td>\n",
       "      <td>1968</td>\n",
       "      <td>3</td>\n",
       "      <td>2016</td>\n",
       "      <td>2016_03</td>\n",
       "      <td>up floor</td>\n",
       "      <td>3</td>\n",
       "      <td>123333.33333333333</td>\n",
       "      <td>4805.194805194805</td>\n",
       "      <td>370000</td>\n",
       "      <td>77</td>\n",
       "      <td>81369</td>\n",
       "    </tr>\n",
       "    <tr>\n",
       "      <th>3</th>\n",
       "      <td>yes</td>\n",
       "      <td>2</td>\n",
       "      <td>1963</td>\n",
       "      <td>3</td>\n",
       "      <td>2016</td>\n",
       "      <td>2016_03</td>\n",
       "      <td>up floor</td>\n",
       "      <td>3</td>\n",
       "      <td>133000.0</td>\n",
       "      <td>4244.68085106383</td>\n",
       "      <td>399000</td>\n",
       "      <td>94</td>\n",
       "      <td>82110</td>\n",
       "    </tr>\n",
       "    <tr>\n",
       "      <th>4</th>\n",
       "      <td>yes</td>\n",
       "      <td>2</td>\n",
       "      <td>1973</td>\n",
       "      <td>3</td>\n",
       "      <td>2016</td>\n",
       "      <td>2016_03</td>\n",
       "      <td>up floor</td>\n",
       "      <td>3</td>\n",
       "      <td>122933.33333333333</td>\n",
       "      <td>4789.61038961039</td>\n",
       "      <td>368800</td>\n",
       "      <td>77</td>\n",
       "      <td>81735</td>\n",
       "    </tr>\n",
       "  </tbody>\n",
       "</table>\n",
       "</div>"
      ],
      "text/plain": [
       "  terrace bedrooms construction_year  date_month  date_year date_year_month  \\\n",
       "0     yes        2              1986           3       2016         2016_03   \n",
       "1     yes      NAN              1972           3       2016         2016_03   \n",
       "2     yes        2              1968           3       2016         2016_03   \n",
       "3     yes        2              1963           3       2016         2016_03   \n",
       "4     yes        2              1973           3       2016         2016_03   \n",
       "\n",
       "      floor rooms          price_room       price_surface   price surface  \\\n",
       "0  up floor     3  108333.33333333333  3915.6626506024095  325000      83   \n",
       "1  up floor     3            115000.0   4107.142857142857  345000      84   \n",
       "2  up floor     3  123333.33333333333   4805.194805194805  370000      77   \n",
       "3  up floor     3            133000.0    4244.68085106383  399000      94   \n",
       "4  up floor     3  122933.33333333333    4789.61038961039  368800      77   \n",
       "\n",
       "     zip  \n",
       "0  85221  \n",
       "1  85521  \n",
       "2  81369  \n",
       "3  82110  \n",
       "4  81735  "
      ]
     },
     "execution_count": 149,
     "metadata": {},
     "output_type": "execute_result"
    }
   ],
   "source": [
    "data.head()"
   ]
  },
  {
   "cell_type": "code",
   "execution_count": 150,
   "metadata": {},
   "outputs": [
    {
     "data": {
      "text/plain": [
       "terrace              object\n",
       "bedrooms             object\n",
       "construction_year    object\n",
       "date_month            int64\n",
       "date_year             int64\n",
       "date_year_month      object\n",
       "floor                object\n",
       "rooms                object\n",
       "price_room           object\n",
       "price_surface        object\n",
       "price                object\n",
       "surface              object\n",
       "zip                   int64\n",
       "dtype: object"
      ]
     },
     "execution_count": 150,
     "metadata": {},
     "output_type": "execute_result"
    }
   ],
   "source": [
    "data.dtypes"
   ]
  },
  {
   "cell_type": "code",
   "execution_count": 151,
   "metadata": {},
   "outputs": [
    {
     "data": {
      "text/plain": [
       "0"
      ]
     },
     "execution_count": 151,
     "metadata": {},
     "output_type": "execute_result"
    }
   ],
   "source": [
    "data['terrace'].isna().sum()\n",
    "# these NAN are string NAN not np.nan\n",
    "# for handling nan values, first we have to convert them into np.nan"
   ]
  },
  {
   "cell_type": "code",
   "execution_count": 152,
   "metadata": {},
   "outputs": [],
   "source": [
    "data=data.replace('NAN', np.nan)"
   ]
  },
  {
   "cell_type": "code",
   "execution_count": 153,
   "metadata": {},
   "outputs": [
    {
     "data": {
      "text/plain": [
       "terrace                0\n",
       "bedrooms             319\n",
       "construction_year     49\n",
       "date_month             0\n",
       "date_year              0\n",
       "date_year_month        0\n",
       "floor                113\n",
       "rooms                 34\n",
       "price_room            35\n",
       "price_surface        212\n",
       "price                  1\n",
       "surface              211\n",
       "zip                    0\n",
       "dtype: int64"
      ]
     },
     "execution_count": 153,
     "metadata": {},
     "output_type": "execute_result"
    }
   ],
   "source": [
    "data.isna().sum()\n",
    "# now we have missing data to handle"
   ]
  },
  {
   "cell_type": "code",
   "execution_count": 154,
   "metadata": {},
   "outputs": [
    {
     "data": {
      "text/plain": [
       "terrace               0.000000\n",
       "bedrooms             36.708861\n",
       "construction_year     5.638665\n",
       "date_month            0.000000\n",
       "date_year             0.000000\n",
       "date_year_month       0.000000\n",
       "floor                13.003452\n",
       "rooms                 3.912543\n",
       "price_room            4.027618\n",
       "price_surface        24.395857\n",
       "price                 0.115075\n",
       "surface              24.280783\n",
       "zip                   0.000000\n",
       "dtype: float64"
      ]
     },
     "execution_count": 154,
     "metadata": {},
     "output_type": "execute_result"
    }
   ],
   "source": [
    "# columns having % missing data\n",
    "(data.isna().sum()/len(data))*100"
   ]
  },
  {
   "cell_type": "code",
   "execution_count": 155,
   "metadata": {},
   "outputs": [
    {
     "data": {
      "text/plain": [
       "up floor        687\n",
       "ground floor     69\n",
       "Name: floor, dtype: int64"
      ]
     },
     "execution_count": 155,
     "metadata": {},
     "output_type": "execute_result"
    }
   ],
   "source": [
    "data['floor'].value_counts()"
   ]
  },
  {
   "cell_type": "code",
   "execution_count": null,
   "metadata": {},
   "outputs": [],
   "source": []
  },
  {
   "cell_type": "code",
   "execution_count": null,
   "metadata": {},
   "outputs": [],
   "source": []
  },
  {
   "cell_type": "code",
   "execution_count": null,
   "metadata": {},
   "outputs": [],
   "source": []
  },
  {
   "cell_type": "code",
   "execution_count": null,
   "metadata": {},
   "outputs": [],
   "source": []
  },
  {
   "cell_type": "code",
   "execution_count": null,
   "metadata": {},
   "outputs": [],
   "source": []
  },
  {
   "cell_type": "code",
   "execution_count": null,
   "metadata": {},
   "outputs": [],
   "source": []
  },
  {
   "cell_type": "code",
   "execution_count": null,
   "metadata": {},
   "outputs": [],
   "source": []
  },
  {
   "cell_type": "code",
   "execution_count": null,
   "metadata": {},
   "outputs": [],
   "source": []
  },
  {
   "cell_type": "code",
   "execution_count": null,
   "metadata": {},
   "outputs": [],
   "source": []
  },
  {
   "cell_type": "code",
   "execution_count": null,
   "metadata": {},
   "outputs": [],
   "source": []
  },
  {
   "cell_type": "code",
   "execution_count": null,
   "metadata": {},
   "outputs": [],
   "source": []
  },
  {
   "cell_type": "code",
   "execution_count": null,
   "metadata": {},
   "outputs": [],
   "source": []
  },
  {
   "cell_type": "code",
   "execution_count": null,
   "metadata": {},
   "outputs": [],
   "source": []
  },
  {
   "cell_type": "code",
   "execution_count": null,
   "metadata": {},
   "outputs": [],
   "source": []
  },
  {
   "cell_type": "code",
   "execution_count": null,
   "metadata": {},
   "outputs": [],
   "source": []
  }
 ],
 "metadata": {
  "kernelspec": {
   "display_name": "Python 3",
   "language": "python",
   "name": "python3"
  },
  "language_info": {
   "codemirror_mode": {
    "name": "ipython",
    "version": 3
   },
   "file_extension": ".py",
   "mimetype": "text/x-python",
   "name": "python",
   "nbconvert_exporter": "python",
   "pygments_lexer": "ipython3",
   "version": "3.7.3"
  }
 },
 "nbformat": 4,
 "nbformat_minor": 2
}
