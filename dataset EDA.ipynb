{
 "cells": [
  {
   "cell_type": "code",
   "execution_count": 1,
   "metadata": {},
   "outputs": [],
   "source": [
    "import numpy as np\n",
    "import pandas as pd"
   ]
  },
  {
   "cell_type": "code",
   "execution_count": 2,
   "metadata": {},
   "outputs": [
    {
     "data": {
      "text/html": [
       "<div>\n",
       "<style scoped>\n",
       "    .dataframe tbody tr th:only-of-type {\n",
       "        vertical-align: middle;\n",
       "    }\n",
       "\n",
       "    .dataframe tbody tr th {\n",
       "        vertical-align: top;\n",
       "    }\n",
       "\n",
       "    .dataframe thead th {\n",
       "        text-align: right;\n",
       "    }\n",
       "</style>\n",
       "<table border=\"1\" class=\"dataframe\">\n",
       "  <thead>\n",
       "    <tr style=\"text-align: right;\">\n",
       "      <th></th>\n",
       "      <th>index0</th>\n",
       "      <th>terrace</th>\n",
       "      <th>bedrooms</th>\n",
       "      <th>construction_year</th>\n",
       "      <th>date_month</th>\n",
       "      <th>date_year</th>\n",
       "      <th>date_year_month</th>\n",
       "      <th>floor</th>\n",
       "      <th>rooms</th>\n",
       "      <th>price_room</th>\n",
       "      <th>price_surface</th>\n",
       "      <th>price</th>\n",
       "      <th>surface</th>\n",
       "      <th>zip</th>\n",
       "    </tr>\n",
       "  </thead>\n",
       "  <tbody>\n",
       "    <tr>\n",
       "      <th>0</th>\n",
       "      <td>0</td>\n",
       "      <td>yes</td>\n",
       "      <td>2</td>\n",
       "      <td>1986</td>\n",
       "      <td>3</td>\n",
       "      <td>2016</td>\n",
       "      <td>2016_03</td>\n",
       "      <td>up floor</td>\n",
       "      <td>3</td>\n",
       "      <td>108333.33333333333</td>\n",
       "      <td>3915.6626506024095</td>\n",
       "      <td>325000</td>\n",
       "      <td>83</td>\n",
       "      <td>85221</td>\n",
       "    </tr>\n",
       "    <tr>\n",
       "      <th>1</th>\n",
       "      <td>1</td>\n",
       "      <td>yes</td>\n",
       "      <td>NAN</td>\n",
       "      <td>1972</td>\n",
       "      <td>3</td>\n",
       "      <td>2016</td>\n",
       "      <td>2016_03</td>\n",
       "      <td>up floor</td>\n",
       "      <td>3</td>\n",
       "      <td>115000.0</td>\n",
       "      <td>4107.142857142857</td>\n",
       "      <td>345000</td>\n",
       "      <td>84</td>\n",
       "      <td>85521</td>\n",
       "    </tr>\n",
       "    <tr>\n",
       "      <th>2</th>\n",
       "      <td>2</td>\n",
       "      <td>yes</td>\n",
       "      <td>2</td>\n",
       "      <td>1968</td>\n",
       "      <td>3</td>\n",
       "      <td>2016</td>\n",
       "      <td>2016_03</td>\n",
       "      <td>up floor</td>\n",
       "      <td>3</td>\n",
       "      <td>123333.33333333333</td>\n",
       "      <td>4805.194805194805</td>\n",
       "      <td>370000</td>\n",
       "      <td>77</td>\n",
       "      <td>81369</td>\n",
       "    </tr>\n",
       "    <tr>\n",
       "      <th>3</th>\n",
       "      <td>3</td>\n",
       "      <td>yes</td>\n",
       "      <td>2</td>\n",
       "      <td>1963</td>\n",
       "      <td>3</td>\n",
       "      <td>2016</td>\n",
       "      <td>2016_03</td>\n",
       "      <td>up floor</td>\n",
       "      <td>3</td>\n",
       "      <td>133000.0</td>\n",
       "      <td>4244.68085106383</td>\n",
       "      <td>399000</td>\n",
       "      <td>94</td>\n",
       "      <td>82110</td>\n",
       "    </tr>\n",
       "    <tr>\n",
       "      <th>4</th>\n",
       "      <td>4</td>\n",
       "      <td>yes</td>\n",
       "      <td>2</td>\n",
       "      <td>1973</td>\n",
       "      <td>3</td>\n",
       "      <td>2016</td>\n",
       "      <td>2016_03</td>\n",
       "      <td>up floor</td>\n",
       "      <td>3</td>\n",
       "      <td>122933.33333333333</td>\n",
       "      <td>4789.61038961039</td>\n",
       "      <td>368800</td>\n",
       "      <td>77</td>\n",
       "      <td>81735</td>\n",
       "    </tr>\n",
       "  </tbody>\n",
       "</table>\n",
       "</div>"
      ],
      "text/plain": [
       "   index0 terrace bedrooms construction_year  date_month  date_year  \\\n",
       "0       0     yes        2              1986           3       2016   \n",
       "1       1     yes      NAN              1972           3       2016   \n",
       "2       2     yes        2              1968           3       2016   \n",
       "3       3     yes        2              1963           3       2016   \n",
       "4       4     yes        2              1973           3       2016   \n",
       "\n",
       "  date_year_month     floor rooms          price_room       price_surface  \\\n",
       "0         2016_03  up floor     3  108333.33333333333  3915.6626506024095   \n",
       "1         2016_03  up floor     3            115000.0   4107.142857142857   \n",
       "2         2016_03  up floor     3  123333.33333333333   4805.194805194805   \n",
       "3         2016_03  up floor     3            133000.0    4244.68085106383   \n",
       "4         2016_03  up floor     3  122933.33333333333    4789.61038961039   \n",
       "\n",
       "    price surface    zip  \n",
       "0  325000      83  85221  \n",
       "1  345000      84  85521  \n",
       "2  370000      77  81369  \n",
       "3  399000      94  82110  \n",
       "4  368800      77  81735  "
      ]
     },
     "execution_count": 2,
     "metadata": {},
     "output_type": "execute_result"
    }
   ],
   "source": [
    "data=pd.read_csv('Munich House raw.csv',delimiter='\\t')\n",
    "data.head()"
   ]
  },
  {
   "cell_type": "code",
   "execution_count": 3,
   "metadata": {},
   "outputs": [],
   "source": [
    "data=data.drop('index0',1)"
   ]
  },
  {
   "cell_type": "code",
   "execution_count": 4,
   "metadata": {},
   "outputs": [
    {
     "data": {
      "text/html": [
       "<div>\n",
       "<style scoped>\n",
       "    .dataframe tbody tr th:only-of-type {\n",
       "        vertical-align: middle;\n",
       "    }\n",
       "\n",
       "    .dataframe tbody tr th {\n",
       "        vertical-align: top;\n",
       "    }\n",
       "\n",
       "    .dataframe thead th {\n",
       "        text-align: right;\n",
       "    }\n",
       "</style>\n",
       "<table border=\"1\" class=\"dataframe\">\n",
       "  <thead>\n",
       "    <tr style=\"text-align: right;\">\n",
       "      <th></th>\n",
       "      <th>terrace</th>\n",
       "      <th>bedrooms</th>\n",
       "      <th>construction_year</th>\n",
       "      <th>date_month</th>\n",
       "      <th>date_year</th>\n",
       "      <th>date_year_month</th>\n",
       "      <th>floor</th>\n",
       "      <th>rooms</th>\n",
       "      <th>price_room</th>\n",
       "      <th>price_surface</th>\n",
       "      <th>price</th>\n",
       "      <th>surface</th>\n",
       "      <th>zip</th>\n",
       "    </tr>\n",
       "  </thead>\n",
       "  <tbody>\n",
       "    <tr>\n",
       "      <th>0</th>\n",
       "      <td>yes</td>\n",
       "      <td>2</td>\n",
       "      <td>1986</td>\n",
       "      <td>3</td>\n",
       "      <td>2016</td>\n",
       "      <td>2016_03</td>\n",
       "      <td>up floor</td>\n",
       "      <td>3</td>\n",
       "      <td>108333.33333333333</td>\n",
       "      <td>3915.6626506024095</td>\n",
       "      <td>325000</td>\n",
       "      <td>83</td>\n",
       "      <td>85221</td>\n",
       "    </tr>\n",
       "    <tr>\n",
       "      <th>1</th>\n",
       "      <td>yes</td>\n",
       "      <td>NAN</td>\n",
       "      <td>1972</td>\n",
       "      <td>3</td>\n",
       "      <td>2016</td>\n",
       "      <td>2016_03</td>\n",
       "      <td>up floor</td>\n",
       "      <td>3</td>\n",
       "      <td>115000.0</td>\n",
       "      <td>4107.142857142857</td>\n",
       "      <td>345000</td>\n",
       "      <td>84</td>\n",
       "      <td>85521</td>\n",
       "    </tr>\n",
       "    <tr>\n",
       "      <th>2</th>\n",
       "      <td>yes</td>\n",
       "      <td>2</td>\n",
       "      <td>1968</td>\n",
       "      <td>3</td>\n",
       "      <td>2016</td>\n",
       "      <td>2016_03</td>\n",
       "      <td>up floor</td>\n",
       "      <td>3</td>\n",
       "      <td>123333.33333333333</td>\n",
       "      <td>4805.194805194805</td>\n",
       "      <td>370000</td>\n",
       "      <td>77</td>\n",
       "      <td>81369</td>\n",
       "    </tr>\n",
       "    <tr>\n",
       "      <th>3</th>\n",
       "      <td>yes</td>\n",
       "      <td>2</td>\n",
       "      <td>1963</td>\n",
       "      <td>3</td>\n",
       "      <td>2016</td>\n",
       "      <td>2016_03</td>\n",
       "      <td>up floor</td>\n",
       "      <td>3</td>\n",
       "      <td>133000.0</td>\n",
       "      <td>4244.68085106383</td>\n",
       "      <td>399000</td>\n",
       "      <td>94</td>\n",
       "      <td>82110</td>\n",
       "    </tr>\n",
       "    <tr>\n",
       "      <th>4</th>\n",
       "      <td>yes</td>\n",
       "      <td>2</td>\n",
       "      <td>1973</td>\n",
       "      <td>3</td>\n",
       "      <td>2016</td>\n",
       "      <td>2016_03</td>\n",
       "      <td>up floor</td>\n",
       "      <td>3</td>\n",
       "      <td>122933.33333333333</td>\n",
       "      <td>4789.61038961039</td>\n",
       "      <td>368800</td>\n",
       "      <td>77</td>\n",
       "      <td>81735</td>\n",
       "    </tr>\n",
       "  </tbody>\n",
       "</table>\n",
       "</div>"
      ],
      "text/plain": [
       "  terrace bedrooms construction_year  date_month  date_year date_year_month  \\\n",
       "0     yes        2              1986           3       2016         2016_03   \n",
       "1     yes      NAN              1972           3       2016         2016_03   \n",
       "2     yes        2              1968           3       2016         2016_03   \n",
       "3     yes        2              1963           3       2016         2016_03   \n",
       "4     yes        2              1973           3       2016         2016_03   \n",
       "\n",
       "      floor rooms          price_room       price_surface   price surface  \\\n",
       "0  up floor     3  108333.33333333333  3915.6626506024095  325000      83   \n",
       "1  up floor     3            115000.0   4107.142857142857  345000      84   \n",
       "2  up floor     3  123333.33333333333   4805.194805194805  370000      77   \n",
       "3  up floor     3            133000.0    4244.68085106383  399000      94   \n",
       "4  up floor     3  122933.33333333333    4789.61038961039  368800      77   \n",
       "\n",
       "     zip  \n",
       "0  85221  \n",
       "1  85521  \n",
       "2  81369  \n",
       "3  82110  \n",
       "4  81735  "
      ]
     },
     "execution_count": 4,
     "metadata": {},
     "output_type": "execute_result"
    }
   ],
   "source": [
    "data.head()"
   ]
  },
  {
   "cell_type": "code",
   "execution_count": 5,
   "metadata": {},
   "outputs": [
    {
     "data": {
      "text/plain": [
       "terrace              object\n",
       "bedrooms             object\n",
       "construction_year    object\n",
       "date_month            int64\n",
       "date_year             int64\n",
       "date_year_month      object\n",
       "floor                object\n",
       "rooms                object\n",
       "price_room           object\n",
       "price_surface        object\n",
       "price                object\n",
       "surface              object\n",
       "zip                   int64\n",
       "dtype: object"
      ]
     },
     "execution_count": 5,
     "metadata": {},
     "output_type": "execute_result"
    }
   ],
   "source": [
    "data.dtypes"
   ]
  },
  {
   "cell_type": "code",
   "execution_count": 6,
   "metadata": {},
   "outputs": [
    {
     "data": {
      "text/plain": [
       "0"
      ]
     },
     "execution_count": 6,
     "metadata": {},
     "output_type": "execute_result"
    }
   ],
   "source": [
    "data['terrace'].isna().sum()\n",
    "# these NAN are string NAN not np.nan\n",
    "# for handling nan values, first we have to convert them into np.nan"
   ]
  },
  {
   "cell_type": "code",
   "execution_count": 7,
   "metadata": {},
   "outputs": [],
   "source": [
    "data.replace('NAN', np.nan, inplace=True)"
   ]
  },
  {
   "cell_type": "code",
   "execution_count": 8,
   "metadata": {},
   "outputs": [
    {
     "data": {
      "text/plain": [
       "terrace                0\n",
       "bedrooms             319\n",
       "construction_year     49\n",
       "date_month             0\n",
       "date_year              0\n",
       "date_year_month        0\n",
       "floor                113\n",
       "rooms                 34\n",
       "price_room            35\n",
       "price_surface        212\n",
       "price                  1\n",
       "surface              211\n",
       "zip                    0\n",
       "dtype: int64"
      ]
     },
     "execution_count": 8,
     "metadata": {},
     "output_type": "execute_result"
    }
   ],
   "source": [
    "data.isna().sum()\n",
    "# now we have missing data to handle"
   ]
  },
  {
   "cell_type": "code",
   "execution_count": 9,
   "metadata": {},
   "outputs": [
    {
     "data": {
      "text/plain": [
       "terrace               0.000000\n",
       "bedrooms             36.708861\n",
       "construction_year     5.638665\n",
       "date_month            0.000000\n",
       "date_year             0.000000\n",
       "date_year_month       0.000000\n",
       "floor                13.003452\n",
       "rooms                 3.912543\n",
       "price_room            4.027618\n",
       "price_surface        24.395857\n",
       "price                 0.115075\n",
       "surface              24.280783\n",
       "zip                   0.000000\n",
       "dtype: float64"
      ]
     },
     "execution_count": 9,
     "metadata": {},
     "output_type": "execute_result"
    }
   ],
   "source": [
    "# columns having % missing data\n",
    "(data.isna().sum()/len(data))*100"
   ]
  },
  {
   "cell_type": "code",
   "execution_count": 10,
   "metadata": {},
   "outputs": [
    {
     "data": {
      "text/html": [
       "<div>\n",
       "<style scoped>\n",
       "    .dataframe tbody tr th:only-of-type {\n",
       "        vertical-align: middle;\n",
       "    }\n",
       "\n",
       "    .dataframe tbody tr th {\n",
       "        vertical-align: top;\n",
       "    }\n",
       "\n",
       "    .dataframe thead th {\n",
       "        text-align: right;\n",
       "    }\n",
       "</style>\n",
       "<table border=\"1\" class=\"dataframe\">\n",
       "  <thead>\n",
       "    <tr style=\"text-align: right;\">\n",
       "      <th></th>\n",
       "      <th>terrace</th>\n",
       "      <th>bedrooms</th>\n",
       "      <th>construction_year</th>\n",
       "      <th>date_month</th>\n",
       "      <th>date_year</th>\n",
       "      <th>date_year_month</th>\n",
       "      <th>floor</th>\n",
       "      <th>rooms</th>\n",
       "      <th>price_room</th>\n",
       "      <th>price_surface</th>\n",
       "      <th>price</th>\n",
       "      <th>surface</th>\n",
       "      <th>zip</th>\n",
       "    </tr>\n",
       "  </thead>\n",
       "  <tbody>\n",
       "    <tr>\n",
       "      <th>367</th>\n",
       "      <td>yes</td>\n",
       "      <td>NaN</td>\n",
       "      <td>2016</td>\n",
       "      <td>8</td>\n",
       "      <td>2016</td>\n",
       "      <td>2016_08</td>\n",
       "      <td>NaN</td>\n",
       "      <td>5</td>\n",
       "      <td>NaN</td>\n",
       "      <td>NaN</td>\n",
       "      <td>NaN</td>\n",
       "      <td>209</td>\n",
       "      <td>81479</td>\n",
       "    </tr>\n",
       "  </tbody>\n",
       "</table>\n",
       "</div>"
      ],
      "text/plain": [
       "    terrace bedrooms construction_year  date_month  date_year date_year_month  \\\n",
       "367     yes      NaN              2016           8       2016         2016_08   \n",
       "\n",
       "    floor rooms price_room price_surface price surface    zip  \n",
       "367   NaN     5        NaN           NaN   NaN     209  81479  "
      ]
     },
     "execution_count": 10,
     "metadata": {},
     "output_type": "execute_result"
    }
   ],
   "source": [
    "#remove the missing field of price, it is gonna our target feature\n",
    "data[data['price'].isna()]"
   ]
  },
  {
   "cell_type": "code",
   "execution_count": 11,
   "metadata": {},
   "outputs": [],
   "source": [
    "data.drop(data[data['price'].isna()].index, inplace=True)\n",
    "#remove using index (entire row)"
   ]
  },
  {
   "cell_type": "code",
   "execution_count": 12,
   "metadata": {
    "scrolled": true
   },
   "outputs": [],
   "source": [
    "# changing columns to their dtype based on records data type they having\n",
    "for i in data.columns: \n",
    "    if data[i].dtypes=='object':\n",
    "        try:\n",
    "            data[i]=data[i].astype(float)\n",
    "        except:\n",
    "            data[i]=data[i].astype(str)"
   ]
  },
  {
   "cell_type": "code",
   "execution_count": 13,
   "metadata": {},
   "outputs": [
    {
     "data": {
      "text/plain": [
       "terrace               object\n",
       "bedrooms             float64\n",
       "construction_year    float64\n",
       "date_month             int64\n",
       "date_year              int64\n",
       "date_year_month      float64\n",
       "floor                 object\n",
       "rooms                float64\n",
       "price_room           float64\n",
       "price_surface        float64\n",
       "price                float64\n",
       "surface              float64\n",
       "zip                    int64\n",
       "dtype: object"
      ]
     },
     "execution_count": 13,
     "metadata": {},
     "output_type": "execute_result"
    }
   ],
   "source": [
    "data.dtypes"
   ]
  },
  {
   "cell_type": "code",
   "execution_count": 14,
   "metadata": {},
   "outputs": [
    {
     "data": {
      "text/plain": [
       "array(['up floor', 'nan', 'ground floor'], dtype=object)"
      ]
     },
     "execution_count": 14,
     "metadata": {},
     "output_type": "execute_result"
    }
   ],
   "source": [
    "data['floor'].unique()"
   ]
  },
  {
   "cell_type": "code",
   "execution_count": 15,
   "metadata": {},
   "outputs": [],
   "source": [
    "def floor_fill():\n",
    "    if np.random.randint(0,8)==0:\n",
    "        return 'up floor'\n",
    "    else:\n",
    "        return 'ground floor'\n",
    "# fill the missing with random data"
   ]
  },
  {
   "cell_type": "code",
   "execution_count": 16,
   "metadata": {},
   "outputs": [],
   "source": [
    "for i, value in data.iterrows():\n",
    "    if data.loc[i,'floor']=='nan':\n",
    "        data.loc[i,'floor']=floor_fill()"
   ]
  },
  {
   "cell_type": "code",
   "execution_count": 17,
   "metadata": {},
   "outputs": [
    {
     "data": {
      "text/plain": [
       "array(['up floor', 'ground floor'], dtype=object)"
      ]
     },
     "execution_count": 17,
     "metadata": {},
     "output_type": "execute_result"
    }
   ],
   "source": [
    "data['floor'].unique()"
   ]
  },
  {
   "cell_type": "code",
   "execution_count": 18,
   "metadata": {},
   "outputs": [
    {
     "data": {
      "text/plain": [
       "0"
      ]
     },
     "execution_count": 18,
     "metadata": {},
     "output_type": "execute_result"
    }
   ],
   "source": [
    "data['floor'].isna().sum()\n",
    "# no missing values in floor"
   ]
  },
  {
   "cell_type": "code",
   "execution_count": 19,
   "metadata": {},
   "outputs": [
    {
     "data": {
      "text/html": [
       "<div>\n",
       "<style scoped>\n",
       "    .dataframe tbody tr th:only-of-type {\n",
       "        vertical-align: middle;\n",
       "    }\n",
       "\n",
       "    .dataframe tbody tr th {\n",
       "        vertical-align: top;\n",
       "    }\n",
       "\n",
       "    .dataframe thead th {\n",
       "        text-align: right;\n",
       "    }\n",
       "</style>\n",
       "<table border=\"1\" class=\"dataframe\">\n",
       "  <thead>\n",
       "    <tr style=\"text-align: right;\">\n",
       "      <th></th>\n",
       "      <th>terrace</th>\n",
       "      <th>bedrooms</th>\n",
       "      <th>construction_year</th>\n",
       "      <th>date_month</th>\n",
       "      <th>date_year</th>\n",
       "      <th>date_year_month</th>\n",
       "      <th>floor</th>\n",
       "      <th>rooms</th>\n",
       "      <th>price_room</th>\n",
       "      <th>price_surface</th>\n",
       "      <th>price</th>\n",
       "      <th>surface</th>\n",
       "      <th>zip</th>\n",
       "    </tr>\n",
       "  </thead>\n",
       "  <tbody>\n",
       "    <tr>\n",
       "      <th>0</th>\n",
       "      <td>yes</td>\n",
       "      <td>2.0</td>\n",
       "      <td>1986.0</td>\n",
       "      <td>3</td>\n",
       "      <td>2016</td>\n",
       "      <td>201603.0</td>\n",
       "      <td>up floor</td>\n",
       "      <td>3.0</td>\n",
       "      <td>108333.333333</td>\n",
       "      <td>3915.662651</td>\n",
       "      <td>325000.0</td>\n",
       "      <td>83.0</td>\n",
       "      <td>85221</td>\n",
       "    </tr>\n",
       "    <tr>\n",
       "      <th>1</th>\n",
       "      <td>yes</td>\n",
       "      <td>NaN</td>\n",
       "      <td>1972.0</td>\n",
       "      <td>3</td>\n",
       "      <td>2016</td>\n",
       "      <td>201603.0</td>\n",
       "      <td>up floor</td>\n",
       "      <td>3.0</td>\n",
       "      <td>115000.000000</td>\n",
       "      <td>4107.142857</td>\n",
       "      <td>345000.0</td>\n",
       "      <td>84.0</td>\n",
       "      <td>85521</td>\n",
       "    </tr>\n",
       "    <tr>\n",
       "      <th>2</th>\n",
       "      <td>yes</td>\n",
       "      <td>2.0</td>\n",
       "      <td>1968.0</td>\n",
       "      <td>3</td>\n",
       "      <td>2016</td>\n",
       "      <td>201603.0</td>\n",
       "      <td>up floor</td>\n",
       "      <td>3.0</td>\n",
       "      <td>123333.333333</td>\n",
       "      <td>4805.194805</td>\n",
       "      <td>370000.0</td>\n",
       "      <td>77.0</td>\n",
       "      <td>81369</td>\n",
       "    </tr>\n",
       "    <tr>\n",
       "      <th>3</th>\n",
       "      <td>yes</td>\n",
       "      <td>2.0</td>\n",
       "      <td>1963.0</td>\n",
       "      <td>3</td>\n",
       "      <td>2016</td>\n",
       "      <td>201603.0</td>\n",
       "      <td>up floor</td>\n",
       "      <td>3.0</td>\n",
       "      <td>133000.000000</td>\n",
       "      <td>4244.680851</td>\n",
       "      <td>399000.0</td>\n",
       "      <td>94.0</td>\n",
       "      <td>82110</td>\n",
       "    </tr>\n",
       "    <tr>\n",
       "      <th>4</th>\n",
       "      <td>yes</td>\n",
       "      <td>2.0</td>\n",
       "      <td>1973.0</td>\n",
       "      <td>3</td>\n",
       "      <td>2016</td>\n",
       "      <td>201603.0</td>\n",
       "      <td>up floor</td>\n",
       "      <td>3.0</td>\n",
       "      <td>122933.333333</td>\n",
       "      <td>4789.610390</td>\n",
       "      <td>368800.0</td>\n",
       "      <td>77.0</td>\n",
       "      <td>81735</td>\n",
       "    </tr>\n",
       "  </tbody>\n",
       "</table>\n",
       "</div>"
      ],
      "text/plain": [
       "  terrace  bedrooms  construction_year  date_month  date_year  \\\n",
       "0     yes       2.0             1986.0           3       2016   \n",
       "1     yes       NaN             1972.0           3       2016   \n",
       "2     yes       2.0             1968.0           3       2016   \n",
       "3     yes       2.0             1963.0           3       2016   \n",
       "4     yes       2.0             1973.0           3       2016   \n",
       "\n",
       "   date_year_month     floor  rooms     price_room  price_surface     price  \\\n",
       "0         201603.0  up floor    3.0  108333.333333    3915.662651  325000.0   \n",
       "1         201603.0  up floor    3.0  115000.000000    4107.142857  345000.0   \n",
       "2         201603.0  up floor    3.0  123333.333333    4805.194805  370000.0   \n",
       "3         201603.0  up floor    3.0  133000.000000    4244.680851  399000.0   \n",
       "4         201603.0  up floor    3.0  122933.333333    4789.610390  368800.0   \n",
       "\n",
       "   surface    zip  \n",
       "0     83.0  85221  \n",
       "1     84.0  85521  \n",
       "2     77.0  81369  \n",
       "3     94.0  82110  \n",
       "4     77.0  81735  "
      ]
     },
     "execution_count": 19,
     "metadata": {},
     "output_type": "execute_result"
    }
   ],
   "source": [
    "data.head()"
   ]
  },
  {
   "cell_type": "code",
   "execution_count": 20,
   "metadata": {},
   "outputs": [],
   "source": [
    "conditions=[(data['rooms'].isnull()) & (data['bedrooms'].isnull()) & (data['surface'].isnull()),\n",
    "             (data['rooms'].isnull()) & (data['bedrooms'].isnull()) & (data['surface']>75),\n",
    "             (data['rooms'].isnull()) & (data['bedrooms'].notnull()),]\n",
    "choices = [2,3,data['bedrooms']+1]\n",
    "data['rooms'] = np.select(conditions,choices,default=2)\n",
    "## randomly fill missing values for rooms based on bedrooms we are having"
   ]
  },
  {
   "cell_type": "code",
   "execution_count": 21,
   "metadata": {},
   "outputs": [
    {
     "data": {
      "text/plain": [
       "2.0    836\n",
       "3.0     24\n",
       "4.0      8\n",
       "Name: rooms, dtype: int64"
      ]
     },
     "execution_count": 21,
     "metadata": {},
     "output_type": "execute_result"
    }
   ],
   "source": [
    "data['rooms'].value_counts()"
   ]
  },
  {
   "cell_type": "code",
   "execution_count": 22,
   "metadata": {},
   "outputs": [],
   "source": [
    "data['bedrooms']=np.where(data['bedrooms'].isna(), data['rooms']-1, data['bedrooms'])\n",
    "# filling bedrooms with 1room lesser than rooms available"
   ]
  },
  {
   "cell_type": "code",
   "execution_count": 23,
   "metadata": {},
   "outputs": [
    {
     "data": {
      "text/plain": [
       "terrace                0\n",
       "bedrooms               0\n",
       "construction_year     49\n",
       "date_month             0\n",
       "date_year              0\n",
       "date_year_month        0\n",
       "floor                  0\n",
       "rooms                  0\n",
       "price_room            34\n",
       "price_surface        211\n",
       "price                  0\n",
       "surface              211\n",
       "zip                    0\n",
       "dtype: int64"
      ]
     },
     "execution_count": 23,
     "metadata": {},
     "output_type": "execute_result"
    }
   ],
   "source": [
    "data.isna().sum()"
   ]
  },
  {
   "cell_type": "code",
   "execution_count": 24,
   "metadata": {},
   "outputs": [
    {
     "data": {
      "text/plain": [
       "rooms\n",
       "2.0     89.988924\n",
       "3.0     91.100000\n",
       "4.0    100.400000\n",
       "Name: surface, dtype: float64"
      ]
     },
     "execution_count": 24,
     "metadata": {},
     "output_type": "execute_result"
    }
   ],
   "source": [
    "data.groupby('rooms')['surface'].mean()"
   ]
  },
  {
   "cell_type": "code",
   "execution_count": 25,
   "metadata": {},
   "outputs": [],
   "source": [
    "## fill surface based on other romm's surface's mean\n",
    "conditions=[(data['rooms']==2)&(data['surface'].isna()),\n",
    "           (data['rooms']==3)&(data['surface'].isna()),\n",
    "            (data['rooms']==4)&(data['surface'].isna())\n",
    "           ]\n",
    "choices=[90,91.1,100]\n",
    "data['surface']=np.select(conditions, choices, default=90.5)"
   ]
  },
  {
   "cell_type": "code",
   "execution_count": 26,
   "metadata": {},
   "outputs": [],
   "source": [
    "# fill the construction_year with \n",
    "data['construction_year'].fillna(data['construction_year'].mean()//1, inplace=True)"
   ]
  },
  {
   "cell_type": "code",
   "execution_count": 27,
   "metadata": {},
   "outputs": [
    {
     "name": "stderr",
     "output_type": "stream",
     "text": [
      "C:\\Users\\aakash\\Anaconda3\\lib\\site-packages\\numpy\\core\\fromnumeric.py:56: FutureWarning: Series.nonzero() is deprecated and will be removed in a future version.Use Series.to_numpy().nonzero() instead\n",
      "  return getattr(obj, method)(*args, **kwds)\n"
     ]
    },
    {
     "data": {
      "text/plain": [
       "array([[ 57],\n",
       "       [373],\n",
       "       [408],\n",
       "       [549],\n",
       "       [599],\n",
       "       [662],\n",
       "       [720],\n",
       "       [731],\n",
       "       [783],\n",
       "       [804],\n",
       "       [815],\n",
       "       [817],\n",
       "       [847],\n",
       "       [867]], dtype=int64)"
      ]
     },
     "execution_count": 27,
     "metadata": {},
     "output_type": "execute_result"
    }
   ],
   "source": [
    "np.argwhere(data['price']==0)"
   ]
  },
  {
   "cell_type": "code",
   "execution_count": 28,
   "metadata": {},
   "outputs": [],
   "source": [
    "data.drop(data[[i==0 for i in data['price']]].index, inplace=True)\n",
    "# target feature having zero, remove them"
   ]
  },
  {
   "cell_type": "code",
   "execution_count": 29,
   "metadata": {},
   "outputs": [],
   "source": [
    "data['price_room'] = data['price'] / data['rooms']\n",
    "data['price_surface'] = data['price'] / data['surface']"
   ]
  },
  {
   "cell_type": "code",
   "execution_count": 30,
   "metadata": {},
   "outputs": [],
   "source": [
    "data.drop_duplicates(keep='first', inplace=True)\n",
    "#remove duplicate data"
   ]
  },
  {
   "cell_type": "code",
   "execution_count": null,
   "metadata": {},
   "outputs": [],
   "source": []
  },
  {
   "cell_type": "markdown",
   "metadata": {
    "scrolled": true
   },
   "source": [
    "### convert to cleaned file"
   ]
  },
  {
   "cell_type": "code",
   "execution_count": 31,
   "metadata": {},
   "outputs": [],
   "source": [
    "data.to_csv('Munich_House_clean.csv', index=False)"
   ]
  },
  {
   "cell_type": "code",
   "execution_count": null,
   "metadata": {},
   "outputs": [],
   "source": []
  },
  {
   "cell_type": "code",
   "execution_count": null,
   "metadata": {},
   "outputs": [],
   "source": []
  },
  {
   "cell_type": "code",
   "execution_count": null,
   "metadata": {},
   "outputs": [],
   "source": []
  }
 ],
 "metadata": {
  "kernelspec": {
   "display_name": "Python 3",
   "language": "python",
   "name": "python3"
  },
  "language_info": {
   "codemirror_mode": {
    "name": "ipython",
    "version": 3
   },
   "file_extension": ".py",
   "mimetype": "text/x-python",
   "name": "python",
   "nbconvert_exporter": "python",
   "pygments_lexer": "ipython3",
   "version": "3.7.3"
  }
 },
 "nbformat": 4,
 "nbformat_minor": 2
}
